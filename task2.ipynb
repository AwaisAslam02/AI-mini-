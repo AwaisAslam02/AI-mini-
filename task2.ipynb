{
  "cells": [
    {
      "cell_type": "code",
      "execution_count": 5,
      "metadata": {
        "id": "KXkro8-7bTDc"
      },
      "outputs": [],
      "source": [
        "def chickens(count):\n",
        "    if count >= 10:\n",
        "        return 'Number of chickens: many'\n",
        "    else:\n",
        "        return 'Number of chickens: ' + str(count)\n",
        "  # LAB(end solution)"
      ]
    },
    {
      "cell_type": "code",
      "execution_count": 6,
      "metadata": {
        "id": "-Bzoj_dxbab4"
      },
      "outputs": [],
      "source": [
        "def string_both_ends_3(s):\n",
        "  if len(s) < 3:\n",
        "        return ''\n",
        "  else:\n",
        "        return s[:3] + s[-3:]"
      ]
    },
    {
      "cell_type": "code",
      "execution_count": 18,
      "metadata": {
        "id": "89-n4vxQbcQ2"
      },
      "outputs": [],
      "source": [
        "def first_char_replace(s):\n",
        "    first_char = s[0]\n",
        "    return first_char + s[1:].replace(first_char.lower(), '@').replace(first_char.upper(), '@')"
      ]
    },
    {
      "cell_type": "code",
      "execution_count": 9,
      "metadata": {
        "id": "2kbjAlDBbeLl"
      },
      "outputs": [],
      "source": [
        "def string_jumble(a, b):\n",
        "    new_a = b[:2] + a[2:]\n",
        "    new_b = a[:2] + b[2:]\n",
        "    return new_a + ' ' + new_b"
      ]
    },
    {
      "cell_type": "code",
      "execution_count": 11,
      "metadata": {
        "id": "7yLC3ffrbges"
      },
      "outputs": [],
      "source": [
        "def match_first_last(words):\n",
        "    count = 0\n",
        "    for word in words:\n",
        "        if len(word) >= 2 and word[0] == word[-1]:\n",
        "            count += 1\n",
        "    return count"
      ]
    },
    {
      "cell_type": "code",
      "execution_count": 12,
      "metadata": {
        "id": "-KSpx8tDbiNr"
      },
      "outputs": [],
      "source": [
        "def group_strings(words):\n",
        "    a_words = [word for word in words if word.startswith('a')]\n",
        "    other_words = [word for word in words if not word.startswith('a')]\n",
        "    return sorted(a_words) + sorted(other_words)"
      ]
    },
    {
      "cell_type": "code",
      "execution_count": 16,
      "metadata": {
        "id": "bbdfkeD7bmFr"
      },
      "outputs": [],
      "source": [
        "def sort_last(tuples):\n",
        "   return sorted(tuples, key=lambda x: x[-1])"
      ]
    },
    {
      "cell_type": "code",
      "execution_count": 19,
      "metadata": {
        "id": "T8E4jaD5bnzK"
      },
      "outputs": [],
      "source": [
        "def main():\n",
        "  print ('Number of chickens')\n",
        "  print(chickens(4))\n",
        "  print(chickens(9))\n",
        "  print(chickens(10))\n",
        "  print(chickens(99))\n",
        "\n",
        "  print ('\\n3 characters from both ends')\n",
        "  print(string_both_ends_3('spring'))\n",
        "  print(string_both_ends_3('Intelligence'))\n",
        "  print(string_both_ends_3('a'))\n",
        "  print(string_both_ends_3('xyz'))\n",
        "\n",
        "  print ('\\nReplace occurrences of first character')\n",
        "  print(first_char_replace('babble'))\n",
        "  print(first_char_replace('aardvark'))\n",
        "  print(first_char_replace('google'))\n",
        "  print(first_char_replace('Ooogle'))\n",
        "\n",
        "  print ('\\nString Jumble')\n",
        "  print(string_jumble('mix', 'pod'))\n",
        "  print(string_jumble('dog', 'dinner'))\n",
        "  print(string_jumble('gnash', 'sport'))\n",
        "  print(string_jumble('pezzy', 'firm'))\n",
        "\n",
        "  print ('\\nMatching first and last characters')\n",
        "  print(match_first_last(['aba', 'xyz', 'aa', 'a', 'bbb']))\n",
        "  print(match_first_last(['', 'x', 'ay', 'ayx', 'ax']))\n",
        "  print(match_first_last(['aaa', 'be', 'abc', 'aello']))\n",
        "\n",
        "  print ('\\nGroup string in a list')\n",
        "  print(group_strings(['bbb', 'ccc', 'axx', 'xzz', 'aaa']))\n",
        "  print(group_strings(['ccc', 'abb', 'aaa', 'xcc', 'aaa']))\n",
        "  print(group_strings(['mix', 'xyz', 'apple', 'xanadu', 'aardvark']))\n",
        "\n",
        "  print ('\\nsort_last')\n",
        "  print(sort_last([(1, 3), (3, 2), (2, 1)]))\n",
        "  print(sort_last([(2, 3), (1, 2), (3, 1)]))\n",
        "  print(sort_last([(1, 7), (1, 3), (3, 4, 5), (2, 2)]))"
      ]
    },
    {
      "cell_type": "code",
      "execution_count": 20,
      "metadata": {
        "id": "cAmJUqYJbpwR",
        "colab": {
          "base_uri": "https://localhost:8080/"
        },
        "outputId": "b8f26eef-7d58-478c-ec29-d99da3a37d8c"
      },
      "outputs": [
        {
          "output_type": "stream",
          "name": "stdout",
          "text": [
            "Number of chickens\n",
            "Number of chickens: 4\n",
            "Number of chickens: 9\n",
            "Number of chickens: many\n",
            "Number of chickens: many\n",
            "\n",
            "3 characters from both ends\n",
            "spring\n",
            "Intnce\n",
            "\n",
            "xyzxyz\n",
            "\n",
            "Replace occurrences of first character\n",
            "ba@@le\n",
            "a@rdv@rk\n",
            "goo@le\n",
            "O@@gle\n",
            "\n",
            "String Jumble\n",
            "pox mid\n",
            "dig donner\n",
            "spash gnort\n",
            "fizzy perm\n",
            "\n",
            "Matching first and last characters\n",
            "3\n",
            "0\n",
            "1\n",
            "\n",
            "Group string in a list\n",
            "['aaa', 'axx', 'bbb', 'ccc', 'xzz']\n",
            "['aaa', 'aaa', 'abb', 'ccc', 'xcc']\n",
            "['aardvark', 'apple', 'mix', 'xanadu', 'xyz']\n",
            "\n",
            "sort_last\n",
            "[(2, 1), (3, 2), (1, 3)]\n",
            "[(3, 1), (1, 2), (2, 3)]\n",
            "[(2, 2), (1, 3), (3, 4, 5), (1, 7)]\n"
          ]
        }
      ],
      "source": [
        "'''\n",
        "Python files .py are modules. Modules can define variables, functions, and classes.\n",
        "When a Python interpreter reads a Python file, it first sets a few special variables.\n",
        "Then it executes the code from the file.\n",
        "\n",
        "One of those variables is called __name__.\n",
        "\n",
        "When the interpreter runs a module, the __name__ variable will be set as  __main__\n",
        "if the module that is being run is the main program.\n",
        "\n",
        "If the code is importing the module from another module, then the __name__\n",
        "variable will be set to that module’s name.\n",
        "'''\n",
        "# Standard boilerplate to call the main() function.\n",
        "if __name__ == '__main__':\n",
        "  main()"
      ]
    },
    {
      "cell_type": "markdown",
      "source": [
        "**task1**"
      ],
      "metadata": {
        "id": "5Tu_JyqtMONA"
      }
    },
    {
      "cell_type": "code",
      "source": [
        "def isPalindrome(s):\n",
        "    s = s.lower()\n",
        "    return s == s[::-1]"
      ],
      "metadata": {
        "id": "n3cuONvMKaOT"
      },
      "execution_count": 21,
      "outputs": []
    },
    {
      "cell_type": "code",
      "source": [
        "\n",
        "a='mom'\n",
        "print(isPalindrome(a))\n",
        "b='hello'\n",
        "print(isPalindrome(b))\n"
      ],
      "metadata": {
        "colab": {
          "base_uri": "https://localhost:8080/"
        },
        "id": "589jiVzMKhlw",
        "outputId": "19900cea-af93-4a46-bcba-d6f6a0599e8d"
      },
      "execution_count": 30,
      "outputs": [
        {
          "output_type": "stream",
          "name": "stdout",
          "text": [
            "True\n",
            "False\n"
          ]
        }
      ]
    },
    {
      "cell_type": "markdown",
      "source": [
        "**task2**"
      ],
      "metadata": {
        "id": "dgGREG2tMQSu"
      }
    },
    {
      "cell_type": "code",
      "source": [
        "import numpy as np\n",
        "\n",
        "def flatten_list(nested_list):\n",
        "    return np.concatenate(nested_list).tolist()"
      ],
      "metadata": {
        "id": "22WijEQwLZPN"
      },
      "execution_count": 33,
      "outputs": []
    },
    {
      "cell_type": "code",
      "source": [
        "nested_list = [[1, 2, 3], [4, 5]]\n",
        "flattened_list = flatten_list(nested_list)\n",
        "print(flattened_list)"
      ],
      "metadata": {
        "colab": {
          "base_uri": "https://localhost:8080/"
        },
        "id": "4NgRqYyCMMOn",
        "outputId": "432416a9-dcec-41e6-aef0-d20ced529ab1"
      },
      "execution_count": 53,
      "outputs": [
        {
          "output_type": "stream",
          "name": "stdout",
          "text": [
            "[1, 2, 3, 4, 5]\n"
          ]
        }
      ]
    },
    {
      "cell_type": "markdown",
      "source": [
        "**task3**"
      ],
      "metadata": {
        "id": "Vpp5wCbhMSE8"
      }
    },
    {
      "cell_type": "code",
      "source": [
        "def common_elements(list1, list2):\n",
        "    return list(set(list1) & set(list2))"
      ],
      "metadata": {
        "id": "5X4cFp_NLa-Z"
      },
      "execution_count": 35,
      "outputs": []
    },
    {
      "cell_type": "code",
      "source": [
        "list1 = [5,6,5]\n",
        "list2 = [5, 6,6, 7, 8]\n",
        "common = common_elements(list1, list2)\n",
        "print(common)"
      ],
      "metadata": {
        "colab": {
          "base_uri": "https://localhost:8080/"
        },
        "id": "4LqUipq7MdFT",
        "outputId": "353d734e-c5a9-4e1e-f610-ca0fc4af98a1"
      },
      "execution_count": 41,
      "outputs": [
        {
          "output_type": "stream",
          "name": "stdout",
          "text": [
            "[5, 6]\n"
          ]
        }
      ]
    },
    {
      "cell_type": "markdown",
      "source": [
        "**task4**"
      ],
      "metadata": {
        "id": "giUZ3Ni3Mqe8"
      }
    },
    {
      "cell_type": "code",
      "source": [
        "def check(s1, s2):\n",
        "\n",
        "    # the sorted strings are checked\n",
        "    if(sorted(s1)== sorted(s2)):\n",
        "        print(\"The strings are anagrams.\")\n",
        "    else:\n",
        "        print(\"The strings aren't anagrams.\")\n",
        "\n",
        "# driver code\n",
        "s1 =\"listen\"\n",
        "s2 =\"silent\"\n",
        "check(s1, s2)"
      ],
      "metadata": {
        "colab": {
          "base_uri": "https://localhost:8080/"
        },
        "id": "LHqxFrUbMrzx",
        "outputId": "e9186c29-fdd2-4b5f-c275-b99587c648f2"
      },
      "execution_count": 44,
      "outputs": [
        {
          "output_type": "stream",
          "name": "stdout",
          "text": [
            "The strings are anagrams.\n"
          ]
        }
      ]
    },
    {
      "cell_type": "markdown",
      "source": [
        "**task5**"
      ],
      "metadata": {
        "id": "l3opyAtrNSxd"
      }
    },
    {
      "cell_type": "code",
      "source": [
        "def binary_search(arr, l, r, x):\n",
        "    if r >= l:\n",
        "        mid = l + (r - l) // 2\n",
        "        if arr[mid] == x:\n",
        "            return mid\n",
        "        elif arr[mid] > x:\n",
        "            return binary_search(arr, l, mid - 1, x)\n",
        "        else:\n",
        "            return binary_search(arr, mid + 1, r, x)\n",
        "    else:\n",
        "        return -1"
      ],
      "metadata": {
        "id": "bEcsDhOmNUL2"
      },
      "execution_count": 45,
      "outputs": []
    },
    {
      "cell_type": "code",
      "source": [
        "\n",
        "list = [2, 3, 4, 10, 40]\n",
        "x = 3\n",
        "result = binary_search(list, 0, len(list) - 1, x)\n",
        "print(\"Element found at index:\", result)"
      ],
      "metadata": {
        "colab": {
          "base_uri": "https://localhost:8080/"
        },
        "id": "hbSFE-2sNzoW",
        "outputId": "62a05a53-f59a-42cf-9f28-a94bb53d6570"
      },
      "execution_count": 49,
      "outputs": [
        {
          "output_type": "stream",
          "name": "stdout",
          "text": [
            "Element found at index: 1\n"
          ]
        }
      ]
    },
    {
      "cell_type": "markdown",
      "source": [
        "**task6**"
      ],
      "metadata": {
        "id": "kEkLtTBoOH-8"
      }
    },
    {
      "cell_type": "code",
      "source": [
        "def merge_sort(arr):\n",
        "    if len(arr) > 1:\n",
        "        mid = len(arr) // 2\n",
        "        left_half = arr[:mid]\n",
        "        right_half = arr[mid:]\n",
        "\n",
        "        merge_sort(left_half)\n",
        "        merge_sort(right_half)\n",
        "\n",
        "        i = j = k = 0\n",
        "\n",
        "        while i < len(left_half) and j < len(right_half):\n",
        "            if left_half[i] < right_half[j]:\n",
        "                arr[k] = left_half[i]\n",
        "                i += 1\n",
        "            else:\n",
        "                arr[k] = right_half[j]\n",
        "                j += 1\n",
        "            k += 1\n",
        "\n",
        "        while i < len(left_half):\n",
        "            arr[k] = left_half[i]\n",
        "            i += 1\n",
        "            k += 1\n",
        "\n",
        "        while j < len(right_half):\n",
        "            arr[k] = right_half[j]\n",
        "            j += 1\n",
        "            k += 1\n",
        "\n",
        "    return arr"
      ],
      "metadata": {
        "id": "qEqTFBLEOM5M"
      },
      "execution_count": 50,
      "outputs": []
    },
    {
      "cell_type": "code",
      "source": [
        "list=[6,3,5,6,89,1,0,-1,3,7,9,3]\n",
        "print(merge_sort(list))"
      ],
      "metadata": {
        "colab": {
          "base_uri": "https://localhost:8080/"
        },
        "id": "Ns2x2w4JOeic",
        "outputId": "6f0ec56c-bf02-4379-fe98-5dd18353f724"
      },
      "execution_count": 51,
      "outputs": [
        {
          "output_type": "stream",
          "name": "stdout",
          "text": [
            "[-1, 0, 1, 3, 3, 3, 5, 6, 6, 7, 9, 89]\n"
          ]
        }
      ]
    },
    {
      "cell_type": "markdown",
      "source": [
        " **task7**"
      ],
      "metadata": {
        "id": "RxGhsAbHO1sW"
      }
    },
    {
      "cell_type": "code",
      "source": [
        "def frequency_counter(arr):\n",
        "    freq = {}\n",
        "    for item in arr:\n",
        "        if item in freq:\n",
        "            freq[item] += 1\n",
        "        else:\n",
        "            freq[item] = 1\n",
        "    return freq\n"
      ],
      "metadata": {
        "id": "T-sOkK20O1QO"
      },
      "execution_count": 54,
      "outputs": []
    },
    {
      "cell_type": "code",
      "source": [
        "list =[1, 2, 2, 3, 4, 2]\n",
        "frequency_counter(list)"
      ],
      "metadata": {
        "colab": {
          "base_uri": "https://localhost:8080/"
        },
        "id": "BHsLSQUHO9Kc",
        "outputId": "aeedda28-265e-4039-f627-f6fa3b469032"
      },
      "execution_count": 55,
      "outputs": [
        {
          "output_type": "execute_result",
          "data": {
            "text/plain": [
              "{1: 1, 2: 3, 3: 1, 4: 1}"
            ]
          },
          "metadata": {},
          "execution_count": 55
        }
      ]
    },
    {
      "cell_type": "markdown",
      "source": [
        "**task8**"
      ],
      "metadata": {
        "id": "y3UlpSsCQZ_y"
      }
    },
    {
      "cell_type": "code",
      "source": [
        "def count_distinct_elements(arr):\n",
        "    freq = {}\n",
        "    for item in arr:\n",
        "        if item in freq:\n",
        "            freq[item] += 1\n",
        "        else:\n",
        "            freq[item] = 1\n",
        "    return len(freq)"
      ],
      "metadata": {
        "id": "utvK-EObQc-t"
      },
      "execution_count": 56,
      "outputs": []
    },
    {
      "cell_type": "code",
      "source": [
        "list=[1, 2, 2, 3, 4, 2]\n",
        "count_distinct_elements(list)"
      ],
      "metadata": {
        "colab": {
          "base_uri": "https://localhost:8080/"
        },
        "id": "aasctwGXQf2V",
        "outputId": "4fd633a5-1b19-444f-fbc3-1c4319e9e697"
      },
      "execution_count": 58,
      "outputs": [
        {
          "output_type": "execute_result",
          "data": {
            "text/plain": [
              "4"
            ]
          },
          "metadata": {},
          "execution_count": 58
        }
      ]
    },
    {
      "cell_type": "markdown",
      "source": [
        "**task9**"
      ],
      "metadata": {
        "id": "dOqCezXeQyVs"
      }
    },
    {
      "cell_type": "code",
      "source": [
        "def union_and_intersection(set1, set2):\n",
        "    union_set = set1.union(set2)\n",
        "    intersection_set = set1.intersection(set2)\n",
        "    return (union_set, intersection_set)"
      ],
      "metadata": {
        "id": "BnGux-kvQxKe"
      },
      "execution_count": 59,
      "outputs": []
    },
    {
      "cell_type": "code",
      "source": [
        "\n",
        "set1 = {1, 2, 3, 4}\n",
        "set2 = {3, 4, 5, 6}\n",
        "result = union_and_intersection(set1, set2)\n",
        "print(\"Union:\", result[0])\n",
        "print(\"Intersection:\", result[1])"
      ],
      "metadata": {
        "colab": {
          "base_uri": "https://localhost:8080/"
        },
        "id": "pBkRC_OtRC-2",
        "outputId": "71b0567a-83e3-4af5-fd74-a211f3a64ff0"
      },
      "execution_count": 60,
      "outputs": [
        {
          "output_type": "stream",
          "name": "stdout",
          "text": [
            "Union: {1, 2, 3, 4, 5, 6}\n",
            "Intersection: {3, 4}\n"
          ]
        }
      ]
    },
    {
      "cell_type": "markdown",
      "source": [
        "**task10**"
      ],
      "metadata": {
        "id": "c3uWEpkbRHYc"
      }
    },
    {
      "cell_type": "code",
      "source": [
        "def get_unique_values(d):\n",
        "    unique_values = []\n",
        "    for value in d.values():\n",
        "        if value not in unique_values:\n",
        "            unique_values.append(value)\n",
        "    return unique_values"
      ],
      "metadata": {
        "id": "rnLW-Fq2RJQM"
      },
      "execution_count": 61,
      "outputs": []
    },
    {
      "cell_type": "code",
      "source": [
        "\n",
        "d = {'a': 1, 'b': 2, 'c': 2, 'd': 3}\n",
        "result = get_unique_values(d)\n",
        "print(\"Unique values:\", result)\n"
      ],
      "metadata": {
        "colab": {
          "base_uri": "https://localhost:8080/"
        },
        "id": "T3kU4gcDRsmC",
        "outputId": "8bfa30ca-b0df-42c3-96a0-8a4e66160b73"
      },
      "execution_count": 62,
      "outputs": [
        {
          "output_type": "stream",
          "name": "stdout",
          "text": [
            "Unique values: [1, 2, 3]\n"
          ]
        }
      ]
    },
    {
      "cell_type": "markdown",
      "source": [
        "***task11***"
      ],
      "metadata": {
        "id": "Avwv187_S17R"
      }
    },
    {
      "cell_type": "code",
      "source": [
        "def most_common_keys(input_dict):\n",
        "\n",
        "    frequency = {}\n",
        "    for value in input_dict.values():\n",
        "        if value in frequency:\n",
        "            frequency[value] += 1\n",
        "        else:\n",
        "            frequency[value] = 1\n",
        "\n",
        "    max_frequency = max(frequency.values())\n",
        "    most_common = [key for key, val in input_dict.items() if frequency[val] == max_frequency]\n",
        "\n",
        "    return most_common"
      ],
      "metadata": {
        "id": "yd29UNi2SuPm"
      },
      "execution_count": 66,
      "outputs": []
    },
    {
      "cell_type": "code",
      "source": [
        "# Example input\n",
        "input_dict = {'a': 3, 'b': 2, 'c': 3, 'd': 2, 'e': 3}\n",
        "print(most_common_keys(input_dict))"
      ],
      "metadata": {
        "colab": {
          "base_uri": "https://localhost:8080/"
        },
        "id": "yDMs_wK9Ss_X",
        "outputId": "f425f0c2-a7a2-484c-d42b-04c0c874d883"
      },
      "execution_count": 67,
      "outputs": [
        {
          "output_type": "stream",
          "name": "stdout",
          "text": [
            "['a', 'c', 'e']\n"
          ]
        }
      ]
    },
    {
      "cell_type": "markdown",
      "source": [
        "**task12**"
      ],
      "metadata": {
        "id": "ZnxbCW0nTs5i"
      }
    },
    {
      "cell_type": "code",
      "source": [
        "d1 = {'a': 1, 'b': 2}\n",
        "d2 = {'b': 3, 'c': 4}\n",
        "d1.update(d2)\n",
        "print(d1)"
      ],
      "metadata": {
        "colab": {
          "base_uri": "https://localhost:8080/"
        },
        "id": "y7n4HNWQTeKe",
        "outputId": "b391018d-0030-4a1a-f6cb-d248608e3ab6"
      },
      "execution_count": 74,
      "outputs": [
        {
          "output_type": "stream",
          "name": "stdout",
          "text": [
            "{'a': 1, 'b': 3, 'c': 4}\n"
          ]
        }
      ]
    },
    {
      "cell_type": "markdown",
      "source": [
        "**task14**"
      ],
      "metadata": {
        "id": "HBBxYrlLUn12"
      }
    },
    {
      "cell_type": "code",
      "source": [
        "def find_duplicates(lst):\n",
        "    duplicates = []\n",
        "    for i in lst:\n",
        "        if lst.count(i) > 1 and i not in duplicates:\n",
        "            duplicates.append(i)\n",
        "    return duplicates"
      ],
      "metadata": {
        "id": "eRt0EfBTUqK5"
      },
      "execution_count": 75,
      "outputs": []
    },
    {
      "cell_type": "code",
      "source": [
        "list=[1, 2, 2, 3, 4, 2]\n",
        "find_duplicates(list)"
      ],
      "metadata": {
        "colab": {
          "base_uri": "https://localhost:8080/"
        },
        "id": "F0xwD6GCU2pR",
        "outputId": "4f1b2e55-87a1-4364-f769-be727c99cc46"
      },
      "execution_count": 77,
      "outputs": [
        {
          "output_type": "execute_result",
          "data": {
            "text/plain": [
              "[2]"
            ]
          },
          "metadata": {},
          "execution_count": 77
        }
      ]
    },
    {
      "cell_type": "markdown",
      "source": [
        "**task13**"
      ],
      "metadata": {
        "id": "wMhuDzQBVXj8"
      }
    },
    {
      "cell_type": "code",
      "source": [
        "def filter_list_of_dicts(lst, key):\n",
        "    return [d for d in lst if key in d]"
      ],
      "metadata": {
        "id": "d4OGLCZIVaY0"
      },
      "execution_count": 86,
      "outputs": []
    },
    {
      "cell_type": "code",
      "source": [
        "dict_list = [{'type':'type1'},{'type':'type2'},{'type':'type2'}, {'type':'type3'}]\n",
        "key = 'type'\n",
        "filtered_lst = filter_list_of_dicts(dict_list, key)\n",
        "print(filtered_lst)\n"
      ],
      "metadata": {
        "colab": {
          "base_uri": "https://localhost:8080/"
        },
        "id": "w1TV9WVkVfdN",
        "outputId": "6579b3aa-8610-4568-a0ab-352a91393654"
      },
      "execution_count": 87,
      "outputs": [
        {
          "output_type": "stream",
          "name": "stdout",
          "text": [
            "[{'type': 'type1'}, {'type': 'type2'}, {'type': 'type2'}, {'type': 'type3'}]\n"
          ]
        }
      ]
    },
    {
      "cell_type": "markdown",
      "source": [],
      "metadata": {
        "id": "itJEgF03UnD5"
      }
    }
  ],
  "metadata": {
    "colab": {
      "provenance": []
    },
    "kernelspec": {
      "name": "python3",
      "display_name": "Python 3"
    },
    "language_info": {
      "name": "python"
    }
  },
  "nbformat": 4,
  "nbformat_minor": 0
}