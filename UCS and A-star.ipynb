{
  "nbformat": 4,
  "nbformat_minor": 0,
  "metadata": {
    "colab": {
      "provenance": []
    },
    "kernelspec": {
      "name": "python3",
      "display_name": "Python 3"
    },
    "language_info": {
      "name": "python"
    }
  },
  "cells": [
    {
      "cell_type": "code",
      "source": [
        "import math"
      ],
      "metadata": {
        "id": "GT2kwmIjNX27"
      },
      "execution_count": 24,
      "outputs": []
    },
    {
      "cell_type": "code",
      "source": [
        "import random"
      ],
      "metadata": {
        "id": "yWTI5CuZLOH8"
      },
      "execution_count": 3,
      "outputs": []
    },
    {
      "cell_type": "code",
      "source": [
        "# Game constants\n",
        "X = 'X'\n",
        "O = 'O'\n",
        "EMPTY = '_'\n",
        "\n",
        "# Board dimensions\n",
        "BOARD_SIZE = 3"
      ],
      "metadata": {
        "id": "r3AKZbpCLThY"
      },
      "execution_count": 5,
      "outputs": []
    },
    {
      "cell_type": "code",
      "source": [
        "def initial_state():\n",
        "    return [[EMPTY, EMPTY, EMPTY],\n",
        "            [EMPTY, EMPTY, EMPTY],\n",
        "            [EMPTY, EMPTY, EMPTY]]"
      ],
      "metadata": {
        "id": "d2J3Z5UILX8T"
      },
      "execution_count": 15,
      "outputs": []
    },
    {
      "cell_type": "code",
      "source": [
        "def player(board):\n",
        "    x_count = sum(row.count(X) for row in board)\n",
        "    o_count = sum(row.count(O) for row in board)\n",
        "    return X if x_count == o_count else O\n"
      ],
      "metadata": {
        "id": "JLarkXgDLZ2Z"
      },
      "execution_count": 16,
      "outputs": []
    },
    {
      "cell_type": "code",
      "source": [
        "def actions(board):\n",
        "    return [(i, j) for i in range(3) for j in range(3) if board[i][j] == EMPTY]"
      ],
      "metadata": {
        "id": "5UZuQGzQLcJE"
      },
      "execution_count": 17,
      "outputs": []
    },
    {
      "cell_type": "code",
      "source": [
        "\n",
        "def result(board, action):\n",
        "    i, j = action\n",
        "    new_board = [row.copy() for row in board]\n",
        "    new_board[i][j] = player(board)\n",
        "    return new_board"
      ],
      "metadata": {
        "id": "PmFtXWiBLfP_"
      },
      "execution_count": 18,
      "outputs": []
    },
    {
      "cell_type": "code",
      "source": [
        "def winner(board):\n",
        "    # Check rows and columns\n",
        "    for i in range(3):\n",
        "        if all(board[i][j] == X for j in range(3)) or all(board[j][i] == X for j in range(3)):\n",
        "            return X\n",
        "        if all(board[i][j] == O for j in range(3)) or all(board[j][i] == O for j in range(3)):\n",
        "            return O\n",
        "\n",
        "    # Check diagonals\n",
        "    if all(board[i][i] == X for i in range(3)) or all(board[i][2 - i] == X for i in range(3)):\n",
        "        return X\n",
        "    if all(board[i][i] == O for i in range(3)) or all(board[i][2 - i] == O for i in range(3)):\n",
        "        return O\n",
        "\n",
        "    return None"
      ],
      "metadata": {
        "id": "OR0yiKWcM-Tw"
      },
      "execution_count": 19,
      "outputs": []
    },
    {
      "cell_type": "code",
      "source": [
        "def terminal(board):\n",
        "    return winner(board) is not None or all(all(cell != EMPTY for cell in row) for row in board)\n"
      ],
      "metadata": {
        "id": "l4KKiW7FLzhQ"
      },
      "execution_count": 20,
      "outputs": []
    },
    {
      "cell_type": "code",
      "source": [
        "# Assign a score based on game outcome\n",
        "def utility(board):\n",
        "    result = winner(board)\n",
        "    if result == X:\n",
        "        return 1\n",
        "    elif result == O:\n",
        "        return -1\n",
        "    else:\n",
        "        return 0\n"
      ],
      "metadata": {
        "id": "nN4OA-lpL1mJ"
      },
      "execution_count": 29,
      "outputs": []
    },
    {
      "cell_type": "code",
      "source": [
        "def minimax_ab_pruning(board, depth, alpha, beta, maximizing_player):\n",
        "    if terminal(board) or depth == 0:\n",
        "        return None, utility(board)\n",
        "\n",
        "    if maximizing_player:\n",
        "        value = -math.inf\n",
        "        best_move = None\n",
        "        for action in actions(board):\n",
        "            new_board = result(board, action)\n",
        "            _, new_value = minimax_ab_pruning(new_board, depth - 1, alpha, beta, False)\n",
        "            if new_value > value:\n",
        "                value = new_value\n",
        "                best_move = action\n",
        "            alpha = max(alpha, value)\n",
        "            if alpha >= beta:\n",
        "                break\n",
        "        return best_move, value\n",
        "\n",
        "    else:\n",
        "        value = math.inf\n",
        "        best_move = None\n",
        "        for action in actions(board):\n",
        "            new_board = result(board, action)\n",
        "            _, new_value = minimax_ab_pruning(new_board, depth - 1, alpha, beta, True)\n",
        "            if new_value < value:\n",
        "                value = new_value\n",
        "                best_move = action\n",
        "            beta = min(beta, value)\n",
        "            if beta <= alpha:\n",
        "                break\n",
        "        return best_move, value"
      ],
      "metadata": {
        "id": "B8YR2Nq1L3lz"
      },
      "execution_count": 22,
      "outputs": []
    },
    {
      "cell_type": "code",
      "source": [
        "def random_first_position(board):\n",
        "    available_positions = [(i, j) for i in range(3) for j in range(3) if board[i][j] == EMPTY]\n",
        "    if available_positions:\n",
        "        return random.choice(available_positions)\n",
        "    else:\n",
        "        return None"
      ],
      "metadata": {
        "id": "hhoSgqK6OY5G"
      },
      "execution_count": 31,
      "outputs": []
    },
    {
      "cell_type": "code",
      "source": [
        "\n",
        "def play_game_with_random_start():\n",
        "    board = initial_state()\n",
        "\n",
        "    # Randomly select the first position for the computer player\n",
        "    computer_first_move = random_first_position(board)\n",
        "    if computer_first_move:\n",
        "        board = result(board, computer_first_move)\n",
        "\n",
        "    while not terminal(board):\n",
        "        print(\"\\nCurrent Board:\")\n",
        "        for row in board:\n",
        "            print(row)\n",
        "\n",
        "        current_player = player(board)\n",
        "\n",
        "        if current_player == X:\n",
        "            print(\"Player X's turn\")\n",
        "            depth_limit = 9  # Maximum depth to search (full search)\n",
        "            move, _ = minimax_ab_pruning(board, depth_limit, -math.inf, math.inf, True)\n",
        "        else:\n",
        "            print(\"Player O's turn\")\n",
        "            depth_limit = 9  # Maximum depth to search (full search)\n",
        "            move, _ = minimax_ab_pruning(board, depth_limit, -math.inf, math.inf, False)\n",
        "\n",
        "        board = result(board, move)\n",
        "\n",
        "    print(\"\\nFinal Board:\")\n",
        "    for row in board:\n",
        "        print(row)\n",
        "\n",
        "    game_winner = winner(board)\n",
        "\n",
        "    if game_winner is None:\n",
        "        print(\"It's a draw!\")\n",
        "    else:\n",
        "        print(f\"Player {game_winner} wins!\")\n",
        "\n"
      ],
      "metadata": {
        "id": "VCS8VnjJNPiW"
      },
      "execution_count": 32,
      "outputs": []
    },
    {
      "cell_type": "code",
      "source": [
        "play_game_with_random_start()"
      ],
      "metadata": {
        "colab": {
          "base_uri": "https://localhost:8080/"
        },
        "id": "X6jI_zmoOkNM",
        "outputId": "d8904c0a-45b9-46bc-8612-65a1fce0320b"
      },
      "execution_count": 49,
      "outputs": [
        {
          "output_type": "stream",
          "name": "stdout",
          "text": [
            "\n",
            "Current Board:\n",
            "['_', '_', '_']\n",
            "['_', '_', 'X']\n",
            "['_', '_', '_']\n",
            "Player O's turn\n",
            "\n",
            "Current Board:\n",
            "['_', '_', 'O']\n",
            "['_', '_', 'X']\n",
            "['_', '_', '_']\n",
            "Player X's turn\n",
            "\n",
            "Current Board:\n",
            "['X', '_', 'O']\n",
            "['_', '_', 'X']\n",
            "['_', '_', '_']\n",
            "Player O's turn\n",
            "\n",
            "Current Board:\n",
            "['X', '_', 'O']\n",
            "['O', '_', 'X']\n",
            "['_', '_', '_']\n",
            "Player X's turn\n",
            "\n",
            "Current Board:\n",
            "['X', 'X', 'O']\n",
            "['O', '_', 'X']\n",
            "['_', '_', '_']\n",
            "Player O's turn\n",
            "\n",
            "Current Board:\n",
            "['X', 'X', 'O']\n",
            "['O', 'O', 'X']\n",
            "['_', '_', '_']\n",
            "Player X's turn\n",
            "\n",
            "Current Board:\n",
            "['X', 'X', 'O']\n",
            "['O', 'O', 'X']\n",
            "['X', '_', '_']\n",
            "Player O's turn\n",
            "\n",
            "Current Board:\n",
            "['X', 'X', 'O']\n",
            "['O', 'O', 'X']\n",
            "['X', 'O', '_']\n",
            "Player X's turn\n",
            "\n",
            "Final Board:\n",
            "['X', 'X', 'O']\n",
            "['O', 'O', 'X']\n",
            "['X', 'O', 'X']\n",
            "It's a draw!\n"
          ]
        }
      ]
    },
    {
      "cell_type": "markdown",
      "source": [
        "**user** vs **AI**"
      ],
      "metadata": {
        "id": "jJL_arp1PNZL"
      }
    },
    {
      "cell_type": "code",
      "source": [
        "import math\n",
        "import random"
      ],
      "metadata": {
        "id": "rGy-UHd-PVdE"
      },
      "execution_count": 36,
      "outputs": []
    },
    {
      "cell_type": "code",
      "source": [
        "\n",
        "# Constants\n",
        "X = 'X'\n",
        "O = 'O'\n",
        "EMPTY = '_'\n",
        "# Initialize the board\n",
        "def initial_state():\n",
        "    return [[EMPTY, EMPTY, EMPTY],\n",
        "            [EMPTY, EMPTY, EMPTY],\n",
        "            [EMPTY, EMPTY, EMPTY]]"
      ],
      "metadata": {
        "id": "2PIkR8WmPYzw"
      },
      "execution_count": 37,
      "outputs": []
    },
    {
      "cell_type": "code",
      "source": [
        "# Initialize the board\n",
        "def initial_state():\n",
        "    return [[EMPTY, EMPTY, EMPTY],\n",
        "            [EMPTY, EMPTY, EMPTY],\n",
        "            [EMPTY, EMPTY, EMPTY]]"
      ],
      "metadata": {
        "id": "EWOJOZBqPcUg"
      },
      "execution_count": 38,
      "outputs": []
    },
    {
      "cell_type": "code",
      "source": [
        "\n",
        "# Get all possible actions (i, j) available on the board\n",
        "def actions(board):\n",
        "    return [(i, j) for i in range(3) for j in range(3) if board[i][j] == EMPTY]"
      ],
      "metadata": {
        "id": "OMhdzpKyPek6"
      },
      "execution_count": 39,
      "outputs": []
    },
    {
      "cell_type": "code",
      "source": [
        "# Get the board that results from making move (i, j) on the board\n",
        "def result(board, action):\n",
        "    i, j = action\n",
        "    new_board = [row.copy() for row in board]\n",
        "    new_board[i][j] = player(board)\n",
        "    return new_board"
      ],
      "metadata": {
        "id": "dniugCgMPiK_"
      },
      "execution_count": 40,
      "outputs": []
    },
    {
      "cell_type": "code",
      "source": [
        "# Determine the winner of the game, if there is one\n",
        "def winner(board):\n",
        "    # Check rows and columns\n",
        "    for i in range(3):\n",
        "        if all(board[i][j] == X for j in range(3)) or all(board[j][i] == X for j in range(3)):\n",
        "            return X\n",
        "        if all(board[i][j] == O for j in range(3)) or all(board[j][i] == O for j in range(3)):\n",
        "            return O\n",
        "\n",
        "    # Check diagonals\n",
        "    if all(board[i][i] == X for i in range(3)) or all(board[i][2 - i] == X for i in range(3)):\n",
        "        return X\n",
        "    if all(board[i][i] == O for i in range(3)) or all(board[i][2 - i] == O for i in range(3)):\n",
        "        return O\n",
        "\n",
        "    return None"
      ],
      "metadata": {
        "id": "ZEGR57Q0PkYP"
      },
      "execution_count": 41,
      "outputs": []
    },
    {
      "cell_type": "code",
      "source": [
        "\n",
        "\n",
        "\n",
        "# Determine if the game is over\n",
        "def terminal(board):\n",
        "    return winner(board) is not None or all(all(cell != EMPTY for cell in row) for row in board)"
      ],
      "metadata": {
        "id": "zjQvQThDPnvn"
      },
      "execution_count": 42,
      "outputs": []
    },
    {
      "cell_type": "code",
      "source": [
        "# Assign a score based on game outcome\n",
        "def utility(board):\n",
        "    result = winner(board)\n",
        "    if result == X:\n",
        "        return 1\n",
        "    elif result == O:\n",
        "        return -1\n",
        "    else:\n",
        "        return 0"
      ],
      "metadata": {
        "id": "E_nQtc51Ps63"
      },
      "execution_count": 43,
      "outputs": []
    },
    {
      "cell_type": "code",
      "source": [
        "\n",
        "\n",
        "# Randomly select the computer's move\n",
        "def random_computer_move(board):\n",
        "    available_positions = [(i, j) for i in range(3) for j in range(3) if board[i][j] == EMPTY]\n",
        "    if available_positions:\n",
        "        return random.choice(available_positions)\n",
        "    else:\n",
        "        return None"
      ],
      "metadata": {
        "id": "ZjwSpDDVPxiZ"
      },
      "execution_count": 44,
      "outputs": []
    },
    {
      "cell_type": "code",
      "source": [
        "\n",
        "\n",
        "\n",
        "def minimax_ab_pruning(board, depth, alpha, beta, maximizing_player):\n",
        "    if terminal(board) or depth == 0:\n",
        "        return None, utility(board)\n",
        "\n",
        "    if maximizing_player:\n",
        "        value = -math.inf\n",
        "        best_move = None\n",
        "        for action in actions(board):\n",
        "            new_board = result(board, action)\n",
        "            _, new_value = minimax_ab_pruning(new_board, depth - 1, alpha, beta, False)\n",
        "            if new_value > value:\n",
        "                value = new_value\n",
        "                best_move = action\n",
        "            alpha = max(alpha, value)\n",
        "            if alpha >= beta:\n",
        "                break\n",
        "        return best_move, value\n",
        "\n",
        "    else:\n",
        "        value = math.inf\n",
        "        best_move = None\n",
        "        for action in actions(board):\n",
        "            new_board = result(board, action)\n",
        "            _, new_value = minimax_ab_pruning(new_board, depth - 1, alpha, beta, True)\n",
        "            if new_value < value:\n",
        "                value = new_value\n",
        "                best_move = action\n",
        "            beta = min(beta, value)\n",
        "            if beta <= alpha:\n",
        "                break\n",
        "        return best_move, value\n"
      ],
      "metadata": {
        "id": "MXfqO87WVaxB"
      },
      "execution_count": 53,
      "outputs": []
    },
    {
      "cell_type": "code",
      "source": [
        "def random_computer_move(board):\n",
        "    available_positions = [(i, j) for i in range(3) for j in range(3) if board[i][j] == EMPTY]\n",
        "    if available_positions:\n",
        "        return random.choice(available_positions)\n",
        "    else:\n",
        "        return None\n"
      ],
      "metadata": {
        "id": "0E9E7usjWVvx"
      },
      "execution_count": 54,
      "outputs": []
    },
    {
      "cell_type": "code",
      "source": [
        "def play_user_vs_ai_advanced():\n",
        "    board = initial_state()\n",
        "\n",
        "    while not terminal(board):\n",
        "        print(\"\\nCurrent Board:\")\n",
        "        for row in board:\n",
        "            print(row)\n",
        "\n",
        "        current_player = player(board)\n",
        "\n",
        "        if current_player == X:\n",
        "            print(\"Player X's turn\")\n",
        "            move = int(input(\"Enter your move (1-9): \")) - 1\n",
        "            while move < 0 or move > 8 or board[move // 3][move % 3] != EMPTY:\n",
        "                print(\"Invalid move. Try again.\")\n",
        "                move = int(input(\"Enter your move (1-9): \")) - 1\n",
        "            board = result(board, (move // 3, move % 3))\n",
        "        else:\n",
        "            print(\"Player O's turn (AI)\")\n",
        "            computer_move = minimax_ab_pruning(board, 8, -math.inf, math.inf, False)[0]\n",
        "            if computer_move:\n",
        "                print(f\"AI chooses position: {computer_move[0]*3 + computer_move[1] + 1}\")\n",
        "                board = result(board, computer_move)\n",
        "\n",
        "    print(\"\\nFinal Board:\")\n",
        "    for row in board:\n",
        "        print(row)\n",
        "\n",
        "    game_winner = winner(board)\n",
        "\n",
        "    if game_winner is None:\n",
        "        print(\"It's a draw!\")\n",
        "    else:\n",
        "        print(f\"Player {game_winner} wins!\")\n",
        "\n",
        "# Start the user vs. AI game with advanced AI moves\n",
        "play_user_vs_ai_advanced()"
      ],
      "metadata": {
        "colab": {
          "base_uri": "https://localhost:8080/"
        },
        "id": "pVMFKY8RWZPM",
        "outputId": "d86dd2b2-afe1-4d3d-be6b-4cb5c615bcd8"
      },
      "execution_count": 55,
      "outputs": [
        {
          "output_type": "stream",
          "name": "stdout",
          "text": [
            "\n",
            "Current Board:\n",
            "['_', '_', '_']\n",
            "['_', '_', '_']\n",
            "['_', '_', '_']\n",
            "Player X's turn\n",
            "Enter your move (1-9): 5\n",
            "\n",
            "Current Board:\n",
            "['_', '_', '_']\n",
            "['_', 'X', '_']\n",
            "['_', '_', '_']\n",
            "Player O's turn (AI)\n",
            "AI chooses position: 1\n",
            "\n",
            "Current Board:\n",
            "['O', '_', '_']\n",
            "['_', 'X', '_']\n",
            "['_', '_', '_']\n",
            "Player X's turn\n",
            "Enter your move (1-9): 3\n",
            "\n",
            "Current Board:\n",
            "['O', '_', 'X']\n",
            "['_', 'X', '_']\n",
            "['_', '_', '_']\n",
            "Player O's turn (AI)\n",
            "AI chooses position: 7\n",
            "\n",
            "Current Board:\n",
            "['O', '_', 'X']\n",
            "['_', 'X', '_']\n",
            "['O', '_', '_']\n",
            "Player X's turn\n",
            "Enter your move (1-9): 4\n",
            "\n",
            "Current Board:\n",
            "['O', '_', 'X']\n",
            "['X', 'X', '_']\n",
            "['O', '_', '_']\n",
            "Player O's turn (AI)\n",
            "AI chooses position: 6\n",
            "\n",
            "Current Board:\n",
            "['O', '_', 'X']\n",
            "['X', 'X', 'O']\n",
            "['O', '_', '_']\n",
            "Player X's turn\n",
            "Enter your move (1-9): 2\n",
            "\n",
            "Current Board:\n",
            "['O', 'X', 'X']\n",
            "['X', 'X', 'O']\n",
            "['O', '_', '_']\n",
            "Player O's turn (AI)\n",
            "AI chooses position: 8\n",
            "\n",
            "Current Board:\n",
            "['O', 'X', 'X']\n",
            "['X', 'X', 'O']\n",
            "['O', 'O', '_']\n",
            "Player X's turn\n",
            "Enter your move (1-9): 9\n",
            "\n",
            "Final Board:\n",
            "['O', 'X', 'X']\n",
            "['X', 'X', 'O']\n",
            "['O', 'O', 'X']\n",
            "It's a draw!\n"
          ]
        }
      ]
    }
  ]
}