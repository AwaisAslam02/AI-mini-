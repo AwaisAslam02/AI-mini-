{
  "nbformat": 4,
  "nbformat_minor": 0,
  "metadata": {
    "colab": {
      "provenance": []
    },
    "kernelspec": {
      "name": "python3",
      "display_name": "Python 3"
    },
    "language_info": {
      "name": "python"
    }
  },
  "cells": [
    {
      "cell_type": "code",
      "execution_count": 1,
      "metadata": {
        "id": "9jEX_oDGKtmA"
      },
      "outputs": [],
      "source": [
        "import re"
      ]
    },
    {
      "cell_type": "code",
      "source": [
        "def read_cube_from_file(filename):\n",
        "    with open(filename, 'r') as file:\n",
        "        lines = file.readlines()\n",
        "        n_rows = len(lines)\n",
        "        m_cols = len(lines[0].strip())\n",
        "        cube = [[int(char) for char in line.strip() if char in ('0', '1')] for line in lines]\n",
        "        return cube"
      ],
      "metadata": {
        "id": "hUw5uq7QM_OM"
      },
      "execution_count": 2,
      "outputs": []
    },
    {
      "cell_type": "code",
      "source": [
        "def dfs(cube, start_row, start_col, goal_row, goal_col, visited=None, path=None):\n",
        "    if visited is None:\n",
        "        visited = set()\n",
        "    if path is None:\n",
        "        path = []\n",
        "\n",
        "    if (start_row, start_col) in visited:\n",
        "        return -1\n",
        "\n",
        "    visited.add((start_row, start_col))\n",
        "    path.append((start_row, start_col))\n",
        "\n",
        "    if start_row == goal_row and start_col == goal_col:\n",
        "        return path\n",
        "\n",
        "    directions = [(0, 1), (1, 0), (0, -1), (-1, 0)]\n",
        "    for dr, dc in directions:\n",
        "        new_row = start_row + dr\n",
        "        new_col = start_col + dc\n",
        "        if 0 <= new_row < len(cube) and 0 <= new_col < len(cube[0]) and cube[new_row][new_col] == 0:\n",
        "            result = dfs(cube, new_row, new_col, goal_row, goal_col, visited, path)\n",
        "            if result != -1:\n",
        "                return result\n",
        "\n",
        "    path.pop()\n",
        "    return -1"
      ],
      "metadata": {
        "id": "NctnimGVNBU8"
      },
      "execution_count": 3,
      "outputs": []
    },
    {
      "cell_type": "code",
      "source": [
        "def bfs(cube, start_row, start_col, goal_row, goal_col, visited=None, path=None):\n",
        "    if visited is None:\n",
        "        visited = set()\n",
        "    if path is None:\n",
        "        path = []\n",
        "\n",
        "    queue = [(start_row, start_col)]\n",
        "    visited.add((start_row, start_col))\n",
        "    path.append((start_row, start_col))\n",
        "\n",
        "    while queue:\n",
        "        current_row, current_col = queue.pop(0)\n",
        "\n",
        "        if current_row == goal_row and current_col == goal_col:\n",
        "            return path\n",
        "\n",
        "        directions = [(0, 1), (1, 0), (0, -1), (-1, 0)]\n",
        "        for dr, dc in directions:\n",
        "            new_row = current_row + dr\n",
        "            new_col = current_col + dc\n",
        "            if 0 <= new_row < len(cube) and 0 <= new_col < len(cube[0]) and cube[new_row][new_col] == 0 and (new_row, new_col) not in visited:\n",
        "                visited.add((new_row, new_col))\n",
        "                path.append((new_row, new_col))\n",
        "                queue.append((new_row, new_col))\n",
        "\n",
        "    return -1"
      ],
      "metadata": {
        "id": "nL8ZYba0NEoF"
      },
      "execution_count": 11,
      "outputs": []
    },
    {
      "cell_type": "code",
      "source": [
        "\n",
        "def solve_cube(filename):\n",
        "    cube = read_cube_from_file(filename)\n",
        "    start_row, start_col = 0, 0\n",
        "    goal_row, goal_col = len(cube) - 1, len(cube[0]) - 1\n",
        "    dfs_path = dfs(cube, start_row, start_col, goal_row, goal_col)\n",
        "    bfs_path = bfs(cube, start_row, start_col, goal_row, goal_col)\n",
        "    if dfs_path != -1 and bfs_path != -1:\n",
        "        return dfs_path, bfs_path\n",
        "    elif dfs_path != -1:\n",
        "        return dfs_path, -1\n",
        "    elif bfs_path != -1:\n",
        "        return -1, bfs_path\n",
        "    else:\n",
        "        return -1, -1\n"
      ],
      "metadata": {
        "id": "-VmKE1ssNHUe"
      },
      "execution_count": 5,
      "outputs": []
    },
    {
      "cell_type": "code",
      "source": [
        "filename = 'cube.txt'\n",
        "dfs_path, bfs_path = solve_cube(filename)\n",
        "if dfs_path != -1:\n",
        "    print('DFS Path:', dfs_path)\n",
        "if bfs_path != -1:\n",
        "    print('BFS Path:', bfs_path)"
      ],
      "metadata": {
        "colab": {
          "base_uri": "https://localhost:8080/"
        },
        "id": "PQrmDFSKNLeX",
        "outputId": "bf945f3b-fbec-4900-e54c-19f38fb1d5f7"
      },
      "execution_count": 12,
      "outputs": [
        {
          "output_type": "stream",
          "name": "stdout",
          "text": [
            "DFS Path: [(0, 0), (0, 1), (0, 2), (0, 3), (1, 3), (1, 4), (2, 4), (2, 5), (3, 5), (4, 5), (4, 4), (5, 4), (6, 4), (6, 5), (6, 6)]\n",
            "BFS Path: [(0, 0), (0, 1), (0, 2), (0, 3), (1, 2), (1, 3), (2, 2), (1, 4), (3, 2), (2, 4), (4, 2), (2, 5), (2, 6), (3, 5), (4, 5), (4, 6), (4, 4), (5, 4), (6, 4), (6, 5), (6, 3), (6, 6), (6, 2)]\n"
          ]
        }
      ]
    }
  ]
}