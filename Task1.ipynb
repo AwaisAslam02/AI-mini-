{
  "nbformat": 4,
  "nbformat_minor": 0,
  "metadata": {
    "colab": {
      "provenance": []
    },
    "kernelspec": {
      "name": "python3",
      "display_name": "Python 3"
    },
    "language_info": {
      "name": "python"
    }
  },
  "cells": [
    {
      "cell_type": "code",
      "source": [
        "num=786\n",
        "count=0\n",
        "num//=10\n",
        "print(num)\n",
        "count=count+1"
      ],
      "metadata": {
        "colab": {
          "base_uri": "https://localhost:8080/"
        },
        "id": "05L403YiEHQa",
        "outputId": "7e25aaf2-5266-435a-aa58-b3655b78a561"
      },
      "execution_count": 24,
      "outputs": [
        {
          "output_type": "stream",
          "name": "stdout",
          "text": [
            "78\n"
          ]
        }
      ]
    },
    {
      "cell_type": "code",
      "source": [],
      "metadata": {
        "colab": {
          "base_uri": "https://localhost:8080/"
        },
        "id": "hBZQfLpRENUI",
        "outputId": "4196bec0-fbc2-4be3-b326-25d09c555ed2"
      },
      "execution_count": 13,
      "outputs": [
        {
          "output_type": "stream",
          "name": "stdout",
          "text": [
            "0\n"
          ]
        }
      ]
    },
    {
      "cell_type": "markdown",
      "source": [
        "**Ex 1.1**"
      ],
      "metadata": {
        "id": "YR3jyDAsCb-8"
      }
    },
    {
      "cell_type": "code",
      "execution_count": 22,
      "metadata": {
        "id": "AfOfKURkBnv7"
      },
      "outputs": [],
      "source": [
        "def count_digits(num):\n",
        "    count = 0\n",
        "    while num != 0:\n",
        "        num //= 10\n",
        "        count += 1\n",
        "    return count"
      ]
    },
    {
      "cell_type": "code",
      "source": [
        "print(count_digits(1000))\n",
        "print(count_digits(6286128))"
      ],
      "metadata": {
        "colab": {
          "base_uri": "https://localhost:8080/"
        },
        "id": "vrJWQ5l1Cuc7",
        "outputId": "4adcb881-2816-45bd-8b34-a7dec81003cc"
      },
      "execution_count": 23,
      "outputs": [
        {
          "output_type": "stream",
          "name": "stdout",
          "text": [
            "4\n",
            "7\n"
          ]
        }
      ]
    },
    {
      "cell_type": "markdown",
      "source": [
        "**Ex 1.2**"
      ],
      "metadata": {
        "id": "x3NvfcMBDzKk"
      }
    },
    {
      "cell_type": "code",
      "source": [
        "def subtotal(array):\n",
        "    for i in range(1, len(array),1):\n",
        "        array[i] = array[i]+array[i-1]\n",
        "    avg=array[i]/len(array)\n",
        "    print(\"average\",avg)\n",
        "    return array"
      ],
      "metadata": {
        "id": "QtsK_1HQDRK_"
      },
      "execution_count": 59,
      "outputs": []
    },
    {
      "cell_type": "code",
      "source": [
        "array=[1,2,3,4,5]\n",
        "print(\"The input array is:\", array)\n",
        "subtotal(array)\n"
      ],
      "metadata": {
        "colab": {
          "base_uri": "https://localhost:8080/"
        },
        "id": "Rn24RC_DHX3e",
        "outputId": "b1b73e8a-9d96-4c17-d5f2-f21bd7ebc10d"
      },
      "execution_count": 61,
      "outputs": [
        {
          "output_type": "stream",
          "name": "stdout",
          "text": [
            "The input array is: [1, 2, 3, 4, 5]\n",
            "average 3.0\n"
          ]
        },
        {
          "output_type": "execute_result",
          "data": {
            "text/plain": [
              "[1, 3, 6, 10, 15]"
            ]
          },
          "metadata": {},
          "execution_count": 61
        }
      ]
    },
    {
      "cell_type": "markdown",
      "source": [
        "**Ex1.3**"
      ],
      "metadata": {
        "id": "uhEr8X4bK5zm"
      }
    },
    {
      "cell_type": "code",
      "source": [
        "with open('text.txt','r') as file:\n",
        "  file=file.read()"
      ],
      "metadata": {
        "id": "C30T3fDiPAj7"
      },
      "execution_count": 53,
      "outputs": []
    },
    {
      "cell_type": "code",
      "source": [
        "def Counter(file):\n",
        "\n",
        "        total_chars = len(file)\n",
        "        digits = sum(c.isdigit() for c in file)\n",
        "        upper_chars = sum(c.isupper() for c in file)\n",
        "        lower_chars = sum(c.islower() for c in file)\n",
        "        spaces = sum(c.isspace() for c in file)\n",
        "        letters = total_chars - spaces\n",
        "        print(f\"No. of letters are: {letters}\")\n",
        "        print(f\"No. of spaces are: {spaces}\")\n",
        "        print(f\"No. of uppercase letters are: {upper_chars}\")\n",
        "        print(f\"No. of lowercase letters: {lower_chars}\")\n",
        "        print(f\"No of digits: {digits}\")"
      ],
      "metadata": {
        "id": "XxigKmPlQqut"
      },
      "execution_count": 54,
      "outputs": []
    },
    {
      "cell_type": "code",
      "source": [
        "Counter(file)"
      ],
      "metadata": {
        "colab": {
          "base_uri": "https://localhost:8080/"
        },
        "id": "T-RcAvW2Q-Ho",
        "outputId": "94651e6e-29d6-4033-8503-b8158c47eaa5"
      },
      "execution_count": 56,
      "outputs": [
        {
          "output_type": "stream",
          "name": "stdout",
          "text": [
            "No. of letters are: 108\n",
            "No. of spaces are: 9\n",
            "No. of uppercase letters are: 16\n",
            "No. of lowercase letters: 59\n",
            "No of digits: 33\n"
          ]
        }
      ]
    },
    {
      "cell_type": "markdown",
      "source": [
        "**Ex 1.4**"
      ],
      "metadata": {
        "id": "zAc0aNOWRZUk"
      }
    },
    {
      "cell_type": "code",
      "source": [
        "import calendar\n",
        "\n",
        "birth_date = (2002, 9, 29, 12, 23, 44, 822812)\n",
        "current_date = (2024, 1, 29, 7, 53, 31, 715391)\n",
        "\n",
        "\n",
        "\n"
      ],
      "metadata": {
        "id": "URH8NXEoRReV"
      },
      "execution_count": 74,
      "outputs": []
    },
    {
      "cell_type": "code",
      "source": [
        "def birthdaytimestamp(birth_date):\n",
        "  year, month, day, hour, minute, second, microsecond = birth_date\n",
        "  total_days = (year - 1) * 365 + (year - 1) // 4 - (year - 1) // 100 + (year - 1) // 400\n",
        "  for i in range(1, month):\n",
        "    total_days += calendar.monthrange(year, i)[1]\n",
        "  total_days += day - 1\n",
        "\n",
        "  total_hours = total_days * 24 + hour\n",
        "  total_minutes = total_hours * 60 + minute\n",
        "  total_seconds = total_minutes * 60 + second\n",
        "  bd = total_seconds * 1000000 + microsecond\n",
        "  return bd\n"
      ],
      "metadata": {
        "id": "SY9iRAAqZq0d"
      },
      "execution_count": 79,
      "outputs": []
    },
    {
      "cell_type": "code",
      "source": [
        "def currenttimestamp(currrent_date):\n",
        "  year, month, day, hour, minute, second, microsecond = current_date\n",
        "  total_days = (year - 1) * 365 + (year - 1) // 4 - (year - 1) // 100 + (year - 1) // 400\n",
        "  for i in range(1, month):\n",
        "    total_days += calendar.monthrange(year, i)[1]\n",
        "  total_days += day - 1\n",
        "\n",
        "  total_hours = total_days * 24 + hour\n",
        "  total_minutes = total_hours * 60 + minute\n",
        "  total_seconds = total_minutes * 60 + second\n",
        "  cd = total_seconds * 1000000 + microsecond\n",
        "  return cd\n"
      ],
      "metadata": {
        "id": "u6TDbCMNaFON"
      },
      "execution_count": 80,
      "outputs": []
    },
    {
      "cell_type": "code",
      "source": [
        "\n",
        "a=birthdaytimestamp(birth_date)\n",
        "b=currenttimestamp(current_date)\n",
        "timestamp=b-a\n",
        "print(\" Time stamp :\",timestamp)\n",
        "\n"
      ],
      "metadata": {
        "colab": {
          "base_uri": "https://localhost:8080/"
        },
        "id": "XGk_c7I3atLC",
        "outputId": "95f2a612-0ffb-4688-9c1f-6814b5a178f0"
      },
      "execution_count": 81,
      "outputs": [
        {
          "output_type": "stream",
          "name": "stdout",
          "text": [
            " Time stamp : 673212586892579\n"
          ]
        }
      ]
    },
    {
      "cell_type": "markdown",
      "source": [
        "**Ex 1.5**"
      ],
      "metadata": {
        "id": "0cX-fKKmcIUh"
      }
    },
    {
      "cell_type": "code",
      "source": [
        "from collections import deque\n",
        "\n",
        "def is_valid_move(matrix, visited, row, col):\n",
        "    rows, cols = len(matrix), len(matrix[0])\n",
        "    return (row >= 0 and row < rows and col >= 0 and col < cols and matrix[row][col] == 1 and not visited[row][col])\n",
        "\n",
        "def find_shortest_path(matrix, start, end):\n",
        "    directions = [(-1, 0), (0, -1), (1, 0), (0, 1)]\n",
        "    rows, cols = len(matrix), len(matrix[0])\n",
        "    visited = [[False for _ in range(cols)] for _ in range(rows)]\n",
        "    queue = deque([(start, 0, [])])\n",
        "\n",
        "    while queue:\n",
        "        (row, col), dist, path = queue.popleft()\n",
        "        path.append((row, col))\n",
        "        if (row, col) == end:\n",
        "            return path\n",
        "        for dr, dc in directions:\n",
        "            new_row, new_col = row + dr, col + dc\n",
        "            if is_valid_move(matrix, visited, new_row, new_col):\n",
        "                visited[new_row][new_col] = True\n",
        "                queue.append(((new_row, new_col), dist + 1, path[:]))\n",
        "\n",
        "    return None\n"
      ],
      "metadata": {
        "id": "nmKy1pG0ddXc"
      },
      "execution_count": 82,
      "outputs": []
    },
    {
      "cell_type": "code",
      "source": [
        "\n",
        "\n",
        "    matrix = [\n",
        "        [1, 1, 1, 1, 1],\n",
        "        [1, 1, 1, 1, 1],\n",
        "        [1, 1, 1, 1, 1],\n",
        "        [1, 1, 1, 1, 1],\n",
        "        [1, 1, 1, 1, 1]\n",
        "    ]\n",
        "\n",
        "\n",
        "    start =[1,1]\n",
        "    end = [4,4]\n",
        "\n",
        "    shortest_path = find_shortest_path(matrix, start, end)\n",
        "    print(\"Shortest path:\", shortest_path)\n"
      ],
      "metadata": {
        "colab": {
          "base_uri": "https://localhost:8080/"
        },
        "id": "SVvsEIorcHsw",
        "outputId": "c57ddb41-9a3c-4c92-961d-51cd54ca6621"
      },
      "execution_count": 92,
      "outputs": [
        {
          "output_type": "stream",
          "name": "stdout",
          "text": [
            "Shortest path: None\n"
          ]
        }
      ]
    }
  ]
}