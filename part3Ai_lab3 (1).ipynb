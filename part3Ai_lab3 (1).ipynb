{
  "nbformat": 4,
  "nbformat_minor": 0,
  "metadata": {
    "colab": {
      "provenance": []
    },
    "kernelspec": {
      "name": "python3",
      "display_name": "Python 3"
    },
    "language_info": {
      "name": "python"
    }
  },
  "cells": [
    {
      "cell_type": "code",
      "source": [
        "import heapq"
      ],
      "metadata": {
        "id": "ImjLRJbdefAc"
      },
      "execution_count": 1,
      "outputs": []
    },
    {
      "cell_type": "code",
      "source": [
        "def read_cube_from_file(filename):\n",
        "    cube = []\n",
        "    with open(filename, 'r') as file:\n",
        "        for line in file:\n",
        "            cube.append(line.split())\n",
        "    return cube\n"
      ],
      "metadata": {
        "id": "LzdSWBacfYtf"
      },
      "execution_count": 5,
      "outputs": []
    },
    {
      "cell_type": "code",
      "source": [
        "\n",
        "def heuristic(state, goal):\n",
        "    return abs(state[0] - goal[0]) + abs(state[1] - goal[1])"
      ],
      "metadata": {
        "id": "xnkePSUQfhS8"
      },
      "execution_count": 7,
      "outputs": []
    },
    {
      "cell_type": "code",
      "source": [
        "def get_neighbors(state, cube):\n",
        "    neighbors = []\n",
        "    moves = [(0, 1), (0, -1), (1, 0), (-1, 0)]\n",
        "    rows = len(cube)\n",
        "    cols = len(cube[0])\n",
        "    for move in moves:\n",
        "        new_row = state[0] + move[0]\n",
        "        new_col = state[1] + move[1]\n",
        "        if 0 <= new_row < rows and 0 <= new_col < cols:\n",
        "            if cube[new_row][new_col] != '1':\n",
        "                neighbors.append((new_row, new_col))\n",
        "    return neighbors"
      ],
      "metadata": {
        "id": "FTegygMEfkh0"
      },
      "execution_count": 8,
      "outputs": []
    },
    {
      "cell_type": "code",
      "source": [
        "\n",
        "\n",
        "def reconstruct_path(came_from, current):\n",
        "    path = []\n",
        "    while current in came_from:\n",
        "        path.append(current)\n",
        "        current = came_from[current]\n",
        "    return path[::-1]"
      ],
      "metadata": {
        "id": "8sIJAq6jfoaw"
      },
      "execution_count": 9,
      "outputs": []
    },
    {
      "cell_type": "code",
      "source": [
        "def solve_cube(cube):\n",
        "    start = None\n",
        "    goal = None\n",
        "    for i in range(len(cube)):\n",
        "        for j in range(len(cube[i])):\n",
        "            if cube[i][j] == 'S':\n",
        "                start = (i, j)\n",
        "            elif cube[i][j] == 'G':\n",
        "                goal = (i, j)\n",
        "    if start is None or goal is None:\n",
        "        return None\n",
        "\n",
        "    open_list = []\n",
        "    closed_set = set()\n",
        "    heapq.heappush(open_list, (0, start))\n",
        "    came_from = {}\n",
        "    g_score = {start: 0}\n",
        "    f_score = {start: heuristic(start, goal)}\n",
        "\n",
        "    while open_list:\n",
        "        _, current = heapq.heappop(open_list)\n",
        "\n",
        "        if current == goal:\n",
        "            return reconstruct_path(came_from, current)\n",
        "\n",
        "        closed_set.add(current)\n",
        "\n",
        "        for neighbor in get_neighbors(current, cube):\n",
        "            if neighbor in closed_set:\n",
        "                continue\n",
        "\n",
        "            tentative_g_score = g_score[current] + 1\n",
        "            if neighbor not in g_score or tentative_g_score < g_score[neighbor]:\n",
        "                came_from[neighbor] = current\n",
        "                g_score[neighbor] = tentative_g_score\n",
        "                f_score[neighbor] = tentative_g_score + heuristic(neighbor, goal)\n",
        "                heapq.heappush(open_list, (f_score[neighbor], neighbor))\n",
        "\n",
        "    return None\n"
      ],
      "metadata": {
        "id": "IOti4hdXfq_B"
      },
      "execution_count": 10,
      "outputs": []
    },
    {
      "cell_type": "code",
      "execution_count": 11,
      "metadata": {
        "colab": {
          "base_uri": "https://localhost:8080/"
        },
        "id": "sUKnQV3bdrKe",
        "outputId": "70e7f369-3fdd-4aa1-f761-0db503749162"
      },
      "outputs": [
        {
          "output_type": "stream",
          "name": "stdout",
          "text": [
            "Path found:\n",
            "(1, 2)\n",
            "(2, 2)\n",
            "(3, 2)\n",
            "(4, 2)\n",
            "(4, 3)\n",
            "(4, 4)\n",
            "(5, 4)\n",
            "(6, 4)\n",
            "(6, 3)\n",
            "(6, 2)\n",
            "(6, 1)\n",
            "(6, 0)\n"
          ]
        }
      ],
      "source": [
        "if __name__ == \"__main__\":\n",
        "    cube = read_cube_from_file(\"cube.txt\")\n",
        "    path = solve_cube(cube)\n",
        "    if path:\n",
        "        print(\"Path found:\")\n",
        "        for row, col in path:\n",
        "            print(f\"({row}, {col})\")\n",
        "    else:\n",
        "        print(\"No path found.\")"
      ]
    }
  ]
}