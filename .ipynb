{
  "nbformat": 4,
  "nbformat_minor": 0,
  "metadata": {
    "colab": {
      "provenance": []
    },
    "kernelspec": {
      "name": "python3",
      "display_name": "Python 3"
    },
    "language_info": {
      "name": "python"
    }
  },
  "cells": [
    {
      "cell_type": "markdown",
      "source": [
        "**part-2**"
      ],
      "metadata": {
        "id": "ufIRZDDuLoFH"
      }
    },
    {
      "cell_type": "code",
      "source": [
        "import heapq\n",
        "\n",
        "def ucs(graph, start, goal):\n",
        "    frontier = [(0, start, [])]  # (cost, node, path)\n",
        "    explored = set()\n",
        "\n",
        "    while frontier:\n",
        "        cost, node, path = heapq.heappop(frontier)\n",
        "        if node == goal:\n",
        "            return path + [node], cost\n",
        "\n",
        "        if node not in explored:\n",
        "            explored.add(node)\n",
        "            for neighbor, weight in graph[node].items():\n",
        "                if neighbor not in explored:\n",
        "                    heapq.heappush(frontier, (cost + weight, neighbor, path + [node]))\n",
        "\n",
        "    return None, None  # no path found\n",
        "\n",
        "def main():\n",
        "    graph = {\n",
        "        'A': {'B': 1, 'C': 4},\n",
        "        'B': {'D': 3},\n",
        "        'C': {'D': 2},\n",
        "        'D': {}\n",
        "    }\n",
        "\n",
        "    start = 'A'\n",
        "    goal = 'D'\n",
        "\n",
        "    path, cost = ucs(graph, start, goal)\n",
        "\n",
        "    if path is not None:\n",
        "        print(f\"Shortest path from {start} to {goal}: {path}\")\n",
        "        print(f\"Total cost: {cost}\")\n",
        "    else:\n",
        "        print(\"No path found.\")\n",
        "\n",
        "\n",
        "if __name__ == \"__main__\":\n",
        "    main()"
      ],
      "metadata": {
        "colab": {
          "base_uri": "https://localhost:8080/"
        },
        "id": "UoshWTUELrxv",
        "outputId": "e26b42c2-bdac-40d6-fa16-dfda4e88ae18"
      },
      "execution_count": null,
      "outputs": [
        {
          "output_type": "stream",
          "name": "stdout",
          "text": [
            "Shortest path from A to D: ['A', 'B', 'D']\n",
            "Total cost: 4\n"
          ]
        }
      ]
    },
    {
      "cell_type": "markdown",
      "source": [
        "**part-3**"
      ],
      "metadata": {
        "id": "gzvUmBrVMXae"
      }
    }
  ]
}