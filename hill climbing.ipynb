{
  "nbformat": 4,
  "nbformat_minor": 0,
  "metadata": {
    "colab": {
      "provenance": []
    },
    "kernelspec": {
      "name": "python3",
      "display_name": "Python 3"
    },
    "language_info": {
      "name": "python"
    }
  },
  "cells": [
    {
      "cell_type": "code",
      "source": [
        "import random"
      ],
      "metadata": {
        "id": "O71-5hWQSkhE"
      },
      "execution_count": 23,
      "outputs": []
    },
    {
      "cell_type": "code",
      "source": [
        "from random import randint"
      ],
      "metadata": {
        "id": "rUK-mBxoQRvp"
      },
      "execution_count": 1,
      "outputs": []
    },
    {
      "cell_type": "code",
      "source": [
        "N = 8"
      ],
      "metadata": {
        "id": "qETjHCEWQUi7"
      },
      "execution_count": 2,
      "outputs": []
    },
    {
      "cell_type": "code",
      "source": [
        "\n",
        "# A utility function that configures the 2D array \"board\" and array \"state\" randomly to provide a starting point for the algorithm.\n",
        "def configureRandomly(board, state):\n",
        "\n",
        "\t# Iterating through the column indices\n",
        "\tfor i in range(N):\n",
        "\n",
        "\t\t# Getting a random row index\n",
        "\t\tstate[i] = randint(0, 100000) % N;\n",
        "\n",
        "\t\t# Placing a queen on the obtained place in chessboard.\n",
        "\t\tboard[state[i]][i] = 1;\n"
      ],
      "metadata": {
        "id": "hfGOcl8_QYON"
      },
      "execution_count": 3,
      "outputs": []
    },
    {
      "cell_type": "code",
      "source": [
        "# A utility function that prints the 2D array \"board\".\n",
        "def printBoard(board):\n",
        "\n",
        "\tfor i in range(N):\n",
        "\t\tprint(*board[i])"
      ],
      "metadata": {
        "id": "M26CZaivQZ18"
      },
      "execution_count": 4,
      "outputs": []
    },
    {
      "cell_type": "code",
      "source": [
        "\n",
        "\n",
        "# A utility function that prints the array \"state\".\n",
        "def printState( state):\n",
        "\tprint(*state)"
      ],
      "metadata": {
        "id": "QGpzeH-hQhuV"
      },
      "execution_count": 7,
      "outputs": []
    },
    {
      "cell_type": "code",
      "source": [
        "\n",
        "\n",
        "# A utility function that compares two arrays, state1 and state2 and returns True if equal and False otherwise.\n",
        "def compareStates(state1, state2):\n",
        "\n",
        "\n",
        "\tfor i in range(N):\n",
        "\t\tif (state1[i] != state2[i]):\n",
        "\t\t\treturn False;\n",
        "\n",
        "\treturn True;"
      ],
      "metadata": {
        "id": "vUwWK-aZQjNP"
      },
      "execution_count": 8,
      "outputs": []
    },
    {
      "cell_type": "code",
      "source": [
        "\n",
        "# A utility function that fills the 2D array \"board\" with values \"value\"\n",
        "def fill(board, value):\n",
        "\n",
        "\tfor i in range(N):\n",
        "\t\tfor j in range(N):\n",
        "\t\t\tboard[i][j] = value;"
      ],
      "metadata": {
        "id": "7D5xS6AJQlKN"
      },
      "execution_count": 9,
      "outputs": []
    },
    {
      "cell_type": "code",
      "source": [
        "# This function calculates the objective value of the state(queens attacking each other) using the board by the following logic.\n",
        "def calculateObjective( board, state):\n",
        "\n",
        "\t# For each queen in a column, we check for other queens falling in the line of our current queen and if found,\n",
        "\t# any, then we increment the variable attacking count. Number of queens attacking each other, initially zero.\n",
        "\tattacking = 0;\n",
        "\n",
        "\t# Variables to index a particular\n",
        "\t# row and column on board.\n",
        "\tfor i in range(N):\n",
        "\n",
        "\t\t# At each column 'i', the queen is placed at row 'state[i]', by the definition of our state.\n",
        "\n",
        "\t\t# To the left of same row(row remains constant and col decreases)\n",
        "\t\trow = state[i]\n",
        "\t\tcol = i - 1;\n",
        "\t\twhile (col >= 0 and board[row][col] != 1) :\n",
        "\t\t\tcol -= 1\n",
        "\n",
        "\t\tif (col >= 0 and board[row][col] == 1) :\n",
        "\t\t\tattacking += 1;\n",
        "\n",
        "\t\t# To the right of same row (row remains constant and col increases)\n",
        "\t\trow = state[i]\n",
        "\t\tcol = i + 1;\n",
        "\t\twhile (col < N and board[row][col] != 1):\n",
        "\t\t\tcol += 1;\n",
        "\n",
        "\t\tif (col < N and board[row][col] == 1) :\n",
        "\t\t\tattacking += 1;\n",
        "\n",
        "\t\t# Diagonally to the left up (row and col simultaneously decrease)\n",
        "\t\trow = state[i] - 1\n",
        "\t\tcol = i - 1;\n",
        "\t\twhile (col >= 0 and row >= 0 and board[row][col] != 1) :\n",
        "\t\t\tcol-= 1;\n",
        "\t\t\trow-= 1;\n",
        "\n",
        "\t\tif (col >= 0 and row >= 0 and board[row][col] == 1) :\n",
        "\t\t\tattacking+= 1;\n",
        "\n",
        "\t\t# Diagonally to the right down (row and col simultaneously increase)\n",
        "\t\trow = state[i] + 1\n",
        "\t\tcol = i + 1;\n",
        "\t\twhile (col < N and row < N and board[row][col] != 1) :\n",
        "\t\t\tcol+= 1;\n",
        "\t\t\trow+= 1;\n",
        "\n",
        "\t\tif (col < N and row < N and board[row][col] == 1) :\n",
        "\t\t\tattacking += 1;\n",
        "\n",
        "\t\t# Diagonally to the left down (col decreases and row increases)\n",
        "\t\trow = state[i] + 1\n",
        "\t\tcol = i - 1;\n",
        "\t\twhile (col >= 0 and row < N and board[row][col] != 1) :\n",
        "\t\t\tcol -= 1;\n",
        "\t\t\trow += 1;\n",
        "\n",
        "\t\tif (col >= 0 and row < N and board[row][col] == 1) :\n",
        "\t\t\tattacking += 1;\n",
        "\n",
        "\t\t# Diagonally to the right up (col increases and row decreases)\n",
        "\t\trow = state[i] - 1\n",
        "\t\tcol = i + 1;\n",
        "\t\twhile (col < N and row >= 0 and board[row][col] != 1) :\n",
        "\t\t\tcol += 1;\n",
        "\t\t\trow -= 1;\n",
        "\n",
        "\t\tif (col < N and row >= 0 and board[row][col] == 1) :\n",
        "\t\t\tattacking += 1;\n",
        "\n",
        "\t# Return pairs.\n",
        "\treturn int(attacking / 2);"
      ],
      "metadata": {
        "id": "Y_HRwAdgY0vz"
      },
      "execution_count": 10,
      "outputs": []
    },
    {
      "cell_type": "code",
      "source": [
        "# A utility function that generates a board configuration given the state.\n",
        "def generateBoard( board, state):\n",
        "\tfill(board, 0);\n",
        "\tfor i in range(N):\n",
        "\t\tboard[state[i]][i] = 1;\n",
        "\n",
        "# A utility function that copies contents of state2 to state1.\n",
        "def copyState( state1, state2):\n",
        "\n",
        "\tfor i in range(N):\n",
        "\t\tstate1[i] = state2[i];"
      ],
      "metadata": {
        "id": "ZbdnqKida1Uu"
      },
      "execution_count": 11,
      "outputs": []
    },
    {
      "cell_type": "code",
      "source": [
        "def getNeighbour(board, state):\n",
        "    current_attacking_pairs = calculateObjective(board, state)\n",
        "    best_neighbor = state.copy()\n",
        "    best_neighbor_attacking_pairs = current_attacking_pairs\n",
        "\n",
        "    for col in range(N):\n",
        "        for row in range(N):\n",
        "            if state[col] != row:\n",
        "                neighbor_state = state.copy()\n",
        "                neighbor_state[col] = row\n",
        "                neighbor_attacking_pairs = calculateObjective(board, neighbor_state)\n",
        "\n",
        "                if neighbor_attacking_pairs < best_neighbor_attacking_pairs:\n",
        "                    best_neighbor = neighbor_state\n",
        "                    best_neighbor_attacking_pairs = neighbor_attacking_pairs\n",
        "\n",
        "    return best_neighbor"
      ],
      "metadata": {
        "id": "KyPW6_KlavpJ"
      },
      "execution_count": 17,
      "outputs": []
    },
    {
      "cell_type": "code",
      "source": [
        "\n",
        "\n",
        "def calculate_attacking_pairs(state):\n",
        "    attacking_pairs = 0\n",
        "    for i in range(N):\n",
        "        for j in range(i+1, N):\n",
        "            if state[i] == state[j] or abs(state[i] - state[j]) == abs(i - j):\n",
        "                attacking_pairs += 1\n",
        "    return attacking_pairs\n",
        "\n",
        "def generate_random_state():\n",
        "    return random.sample(range(N), N)\n",
        "\n",
        "def hill_climbing():\n",
        "    current_state = generate_random_state()\n",
        "    current_attacking_pairs = calculate_attacking_pairs(current_state)\n",
        "\n",
        "    while current_attacking_pairs > 0:\n",
        "        best_state = current_state.copy()\n",
        "        best_attacking_pairs = current_attacking_pairs\n",
        "\n",
        "        for _ in range(100):  # Random restart by trying multiple neighbors\n",
        "            neighbor_state = generate_random_state()\n",
        "            neighbor_attacking_pairs = calculate_attacking_pairs(neighbor_state)\n",
        "\n",
        "            if neighbor_attacking_pairs < best_attacking_pairs:\n",
        "                best_state = neighbor_state\n",
        "                best_attacking_pairs = neighbor_attacking_pairs\n",
        "\n",
        "        if best_attacking_pairs >= current_attacking_pairs:\n",
        "            current_state = generate_random_state()  # Random restart\n",
        "            current_attacking_pairs = calculate_attacking_pairs(current_state)\n",
        "        else:\n",
        "            current_state = best_state\n",
        "            current_attacking_pairs = best_attacking_pairs\n",
        "\n",
        "    return current_state\n",
        "\n",
        "\n",
        "\n",
        "\n",
        "\n"
      ],
      "metadata": {
        "id": "a-EkMJVBZN0B"
      },
      "execution_count": 34,
      "outputs": []
    },
    {
      "cell_type": "code",
      "source": [
        "def print_board(state):\n",
        "    for row in range(N):\n",
        "        line = \"\"\n",
        "        for col in range(N):\n",
        "            if state[col] == row:\n",
        "                line += \"1 \"\n",
        "            else:\n",
        "                line += \"0 \"\n",
        "        print(line)\n",
        "\n",
        "# Main function to solve N-Queens problem using Hill Climbing with random restart\n",
        "if __name__ == \"__main__\":\n",
        "    final_state = hill_climbing()\n",
        "    print(\"Final Board Configuration:\")\n",
        "    print_board(final_state)\n",
        "\n",
        "\n",
        "print(\"\\nFinal State:\")\n",
        "printState(final_state)"
      ],
      "metadata": {
        "id": "y70r8DqtZH9u",
        "colab": {
          "base_uri": "https://localhost:8080/"
        },
        "outputId": "eeaab137-9d83-4327-e835-1987bfa10d75"
      },
      "execution_count": 46,
      "outputs": [
        {
          "output_type": "stream",
          "name": "stdout",
          "text": [
            "Final Board Configuration:\n",
            "0 1 0 0 0 0 0 0 \n",
            "0 0 0 0 0 0 1 0 \n",
            "0 0 0 0 1 0 0 0 \n",
            "0 0 0 0 0 0 0 1 \n",
            "1 0 0 0 0 0 0 0 \n",
            "0 0 0 1 0 0 0 0 \n",
            "0 0 0 0 0 1 0 0 \n",
            "0 0 1 0 0 0 0 0 \n",
            "\n",
            "Final State:\n",
            "4 0 7 5 2 6 1 3\n"
          ]
        }
      ]
    }
  ]
}